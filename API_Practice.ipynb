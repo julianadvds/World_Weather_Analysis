{
 "cells": [
  {
   "cell_type": "code",
   "execution_count": 1,
   "id": "d4a1d5a4",
   "metadata": {},
   "outputs": [],
   "source": [
    "from citipy import citipy\n",
    "# Use the citipy module to determine city based on latitude and longitude."
   ]
  },
  {
   "cell_type": "code",
   "execution_count": 2,
   "id": "01c163f7",
   "metadata": {},
   "outputs": [],
   "source": [
    "# Create a practice set of random latitude and longitude combinations.\n",
    "x = [25.12903645, 25.92017388, 26.62509167, -59.98969384, 37.30571269]\n",
    "y = [-67.59741259, 11.09532135, 74.84233102, -76.89176677, -61.13376282]\n",
    "coordinates = zip(x, y)"
   ]
  },
  {
   "cell_type": "code",
   "execution_count": 3,
   "id": "446fe200",
   "metadata": {},
   "outputs": [
    {
     "name": "stdout",
     "output_type": "stream",
     "text": [
      "cockburn town tc\n",
      "gat ly\n",
      "parvatsar in\n",
      "punta arenas cl\n",
      "saint george bm\n"
     ]
    }
   ],
   "source": [
    "# Use the tuple() function to display the latitude and longitude combinations.\n",
    "for coordinate in coordinates:\n",
    "    print(citipy.nearest_city(coordinate[0], coordinate[1]).city_name,\n",
    "          citipy.nearest_city(coordinate[0], coordinate[1]).country_code)"
   ]
  },
  {
   "cell_type": "code",
   "execution_count": 4,
   "id": "486d81bb",
   "metadata": {},
   "outputs": [],
   "source": [
    "# import the requests library\n",
    "import requests\n",
    "\n",
    "#import the API key\n",
    "from config import weather_api_key"
   ]
  },
  {
   "cell_type": "code",
   "execution_count": 5,
   "id": "4bc0b7eb",
   "metadata": {},
   "outputs": [],
   "source": [
    "#starting URL for weather map api call.\n",
    "\n",
    "url = \"http://api.openweathermap.org/data/2.5/weather?units=Imperial&APPID=\" + weather_api_key\n"
   ]
  },
  {
   "cell_type": "code",
   "execution_count": 6,
   "id": "ac7666b7",
   "metadata": {},
   "outputs": [
    {
     "data": {
      "text/plain": [
       "{'coord': {'lon': -71.0598, 'lat': 42.3584},\n",
       " 'weather': [{'id': 804,\n",
       "   'main': 'Clouds',\n",
       "   'description': 'overcast clouds',\n",
       "   'icon': '04d'}],\n",
       " 'base': 'stations',\n",
       " 'main': {'temp': 53.02,\n",
       "  'feels_like': 52.45,\n",
       "  'temp_min': 38.57,\n",
       "  'temp_max': 61.21,\n",
       "  'pressure': 1011,\n",
       "  'humidity': 94},\n",
       " 'visibility': 10000,\n",
       " 'wind': {'speed': 1.99, 'deg': 236, 'gust': 10},\n",
       " 'clouds': {'all': 100},\n",
       " 'dt': 1638802887,\n",
       " 'sys': {'type': 2,\n",
       "  'id': 2013408,\n",
       "  'country': 'US',\n",
       "  'sunrise': 1638791956,\n",
       "  'sunset': 1638825112},\n",
       " 'timezone': -18000,\n",
       " 'id': 4930956,\n",
       " 'name': 'Boston',\n",
       " 'cod': 200}"
      ]
     },
     "execution_count": 6,
     "metadata": {},
     "output_type": "execute_result"
    }
   ],
   "source": [
    "#6..2.1-6.2.5\n",
    "\n",
    "# Create an endpoint URL for a city.\n",
    "city_url = url + \"&q=\" + \"Boston\"\n",
    "city_weather = requests.get(city_url)\n",
    "city_weather.json()"
   ]
  },
  {
   "cell_type": "code",
   "execution_count": 7,
   "id": "2b8ba1ac",
   "metadata": {},
   "outputs": [],
   "source": [
    "# boston_data = city_weather.json()\n",
    "# boston_data['sys']['country']"
   ]
  },
  {
   "cell_type": "code",
   "execution_count": 8,
   "id": "cd1c85cf",
   "metadata": {},
   "outputs": [],
   "source": [
    "# boston_data['dt']"
   ]
  },
  {
   "cell_type": "code",
   "execution_count": 9,
   "id": "df427f55",
   "metadata": {},
   "outputs": [
    {
     "ename": "NameError",
     "evalue": "name 'boston_data' is not defined",
     "output_type": "error",
     "traceback": [
      "\u001b[1;31m---------------------------------------------------------------------------\u001b[0m",
      "\u001b[1;31mNameError\u001b[0m                                 Traceback (most recent call last)",
      "\u001b[1;32m<ipython-input-9-16d70002ba7a>\u001b[0m in \u001b[0;36m<module>\u001b[1;34m\u001b[0m\n\u001b[1;32m----> 1\u001b[1;33m \u001b[0mlat\u001b[0m \u001b[1;33m=\u001b[0m \u001b[0mboston_data\u001b[0m\u001b[1;33m[\u001b[0m\u001b[1;34m\"coord\"\u001b[0m\u001b[1;33m]\u001b[0m\u001b[1;33m[\u001b[0m\u001b[1;34m\"lat\"\u001b[0m\u001b[1;33m]\u001b[0m\u001b[1;33m\u001b[0m\u001b[1;33m\u001b[0m\u001b[0m\n\u001b[0m\u001b[0;32m      2\u001b[0m \u001b[0mlng\u001b[0m \u001b[1;33m=\u001b[0m \u001b[0mboston_data\u001b[0m\u001b[1;33m[\u001b[0m\u001b[1;34m\"coord\"\u001b[0m\u001b[1;33m]\u001b[0m\u001b[1;33m[\u001b[0m\u001b[1;34m\"lon\"\u001b[0m\u001b[1;33m]\u001b[0m\u001b[1;33m\u001b[0m\u001b[1;33m\u001b[0m\u001b[0m\n\u001b[0;32m      3\u001b[0m \u001b[0mmax_temp\u001b[0m \u001b[1;33m=\u001b[0m \u001b[0mboston_data\u001b[0m\u001b[1;33m[\u001b[0m\u001b[1;34m\"main\"\u001b[0m\u001b[1;33m]\u001b[0m\u001b[1;33m[\u001b[0m\u001b[1;34m\"temp_max\"\u001b[0m\u001b[1;33m]\u001b[0m\u001b[1;33m\u001b[0m\u001b[1;33m\u001b[0m\u001b[0m\n\u001b[0;32m      4\u001b[0m \u001b[0mhumidity\u001b[0m \u001b[1;33m=\u001b[0m \u001b[0mboston_data\u001b[0m\u001b[1;33m[\u001b[0m\u001b[1;34m\"main\"\u001b[0m\u001b[1;33m]\u001b[0m\u001b[1;33m[\u001b[0m\u001b[1;34m\"humidity\"\u001b[0m\u001b[1;33m]\u001b[0m\u001b[1;33m\u001b[0m\u001b[1;33m\u001b[0m\u001b[0m\n\u001b[0;32m      5\u001b[0m \u001b[0mclouds\u001b[0m \u001b[1;33m=\u001b[0m \u001b[0mboston_data\u001b[0m\u001b[1;33m[\u001b[0m\u001b[1;34m\"clouds\"\u001b[0m\u001b[1;33m]\u001b[0m\u001b[1;33m[\u001b[0m\u001b[1;34m\"all\"\u001b[0m\u001b[1;33m]\u001b[0m\u001b[1;33m\u001b[0m\u001b[1;33m\u001b[0m\u001b[0m\n",
      "\u001b[1;31mNameError\u001b[0m: name 'boston_data' is not defined"
     ]
    }
   ],
   "source": [
    "lat = boston_data[\"coord\"][\"lat\"]\n",
    "lng = boston_data[\"coord\"][\"lon\"]\n",
    "max_temp = boston_data[\"main\"][\"temp_max\"]\n",
    "humidity = boston_data[\"main\"][\"humidity\"]\n",
    "clouds = boston_data[\"clouds\"][\"all\"]\n",
    "wind = boston_data[\"wind\"][\"speed\"]\n",
    "print(lat, lng, max_temp, humidity, clouds, wind)"
   ]
  },
  {
   "cell_type": "code",
   "execution_count": null,
   "id": "b45cef31",
   "metadata": {},
   "outputs": [],
   "source": [
    "from datetime import datetime\n",
    "\n",
    "#get the date from the json file\n",
    "date = boston_data['dt']\n",
    "\n",
    "#convert utc date to date format YYY,MM,DD,HH,MM, SS\n",
    "datetime.utcfromtimestamp(date).strftime('%Y-%m-%d %H:%M:%S')\n"
   ]
  },
  {
   "cell_type": "code",
   "execution_count": null,
   "id": "d140130a",
   "metadata": {},
   "outputs": [],
   "source": [
    "#get today's time\n",
    "today = time.strftime('%x')\n",
    "today\n"
   ]
  },
  {
   "cell_type": "code",
   "execution_count": null,
   "id": "ea7e9cfa",
   "metadata": {},
   "outputs": [],
   "source": []
  },
  {
   "cell_type": "code",
   "execution_count": null,
   "id": "a290377d",
   "metadata": {},
   "outputs": [],
   "source": []
  }
 ],
 "metadata": {
  "kernelspec": {
   "display_name": "PythonData",
   "language": "python",
   "name": "pythondata"
  },
  "language_info": {
   "codemirror_mode": {
    "name": "ipython",
    "version": 3
   },
   "file_extension": ".py",
   "mimetype": "text/x-python",
   "name": "python",
   "nbconvert_exporter": "python",
   "pygments_lexer": "ipython3",
   "version": "3.7.10"
  }
 },
 "nbformat": 4,
 "nbformat_minor": 5
}
